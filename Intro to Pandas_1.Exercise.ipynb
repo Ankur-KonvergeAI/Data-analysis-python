{
 "cells": [
  {
   "cell_type": "markdown",
   "id": "e4cd8cbc",
   "metadata": {},
   "source": [
    "# Pandas Series exercises"
   ]
  },
  {
   "cell_type": "code",
   "execution_count": null,
   "id": "aa2053ae",
   "metadata": {},
   "outputs": [],
   "source": [
    "# Import the numpy package under the name np\n",
    "import numpy as np\n",
    "\n",
    "# Import the pandas package under the name pd\n",
    "import pandas as pd\n",
    "\n",
    "# Print the pandas version and the configuration\n",
    "print(pd.__version__)"
   ]
  },
  {
   "cell_type": "markdown",
   "id": "afedf919",
   "metadata": {},
   "source": [
    "## Series creation"
   ]
  },
  {
   "cell_type": "markdown",
   "id": "8c5ea4d2",
   "metadata": {},
   "source": [
    "### Create an empty pandas Series"
   ]
  },
  {
   "cell_type": "code",
   "execution_count": null,
   "id": "0b9b6659",
   "metadata": {},
   "outputs": [],
   "source": [
    "pd.Series()"
   ]
  },
  {
   "cell_type": "markdown",
   "id": "e879b53f",
   "metadata": {},
   "source": [
    "### Given the X python list convert it to an Y pandas Series"
   ]
  },
  {
   "cell_type": "code",
   "execution_count": null,
   "id": "194a1e11",
   "metadata": {},
   "outputs": [],
   "source": [
    "X = ['A','B','C']\n",
    "print(X, type(X))\n",
    "\n",
    "Y = pd.Series(X)\n",
    "print(Y, type(Y)) # different type"
   ]
  },
  {
   "cell_type": "markdown",
   "id": "f671bcff",
   "metadata": {},
   "source": [
    "### Given the X pandas Series, name it 'My letters'"
   ]
  },
  {
   "cell_type": "code",
   "execution_count": null,
   "id": "cfd09b95",
   "metadata": {},
   "outputs": [],
   "source": [
    "X = pd.Series(['A','B','C'])\n",
    "\n",
    "X.name = 'My letters'\n",
    "X"
   ]
  },
  {
   "cell_type": "markdown",
   "id": "8e6387a7",
   "metadata": {},
   "source": [
    "### Given the X pandas Series, show its values"
   ]
  },
  {
   "cell_type": "code",
   "execution_count": null,
   "id": "3514914d",
   "metadata": {},
   "outputs": [],
   "source": [
    "X = pd.Series(['A','B','C'])\n",
    "\n",
    "X.name = 'My letters'\n",
    "X"
   ]
  },
  {
   "cell_type": "code",
   "execution_count": null,
   "id": "0516a16b",
   "metadata": {},
   "outputs": [],
   "source": []
  },
  {
   "cell_type": "markdown",
   "id": "f94dbdbe",
   "metadata": {},
   "source": [
    "## Series indexation"
   ]
  },
  {
   "cell_type": "markdown",
   "id": "4ac5ef7a",
   "metadata": {},
   "source": [
    "### Assign index names to the given X pandas Series"
   ]
  },
  {
   "cell_type": "code",
   "execution_count": null,
   "id": "84738cb8",
   "metadata": {},
   "outputs": [],
   "source": [
    "X = pd.Series(['A','B','C'])\n",
    "index_names = ['first', 'second', 'third']\n",
    "\n",
    "X.index = index_names\n",
    "X"
   ]
  },
  {
   "cell_type": "markdown",
   "id": "202c9936",
   "metadata": {},
   "source": [
    "###  Given the X pandas Series, show its first element"
   ]
  },
  {
   "cell_type": "code",
   "execution_count": null,
   "id": "d73de78a",
   "metadata": {},
   "outputs": [],
   "source": [
    "X = pd.Series(['A','B','C'], index=['first', 'second', 'third'])\n",
    "\n",
    "#X[0] # by position\n",
    "#X.iloc[0] # by positionGiven the X pandas Series, show its last element\n",
    "X['first'] # by index"
   ]
  },
  {
   "cell_type": "markdown",
   "id": "41b12642",
   "metadata": {},
   "source": [
    "###  Given the X pandas Series, show its last element"
   ]
  },
  {
   "cell_type": "code",
   "execution_count": null,
   "id": "ca4b905d",
   "metadata": {},
   "outputs": [],
   "source": [
    "X = pd.Series(['A','B','C'], index=['first', 'second', 'third'])\n",
    "\n",
    "#X[-1] # by position\n",
    "#X.iloc[-1] # by position\n",
    "X['third'] # by index"
   ]
  },
  {
   "cell_type": "markdown",
   "id": "8f570170",
   "metadata": {},
   "source": [
    "### Given the X pandas Series, show all middle elements"
   ]
  },
  {
   "cell_type": "code",
   "execution_count": null,
   "id": "9fb110a2",
   "metadata": {},
   "outputs": [],
   "source": [
    "X = pd.Series(['A','B','C','D','E'],\n",
    "              index=['first','second','third','forth','fifth'])\n",
    "\n",
    "#X[['second', 'third', 'forth']]\n",
    "#X.iloc[1:-1] # by position\n",
    "X[1:-1] # by position"
   ]
  },
  {
   "cell_type": "markdown",
   "id": "cae2864c",
   "metadata": {},
   "source": [
    "### Given the X pandas Series, show the elements in reverse position "
   ]
  },
  {
   "cell_type": "code",
   "execution_count": null,
   "id": "68c067d8",
   "metadata": {},
   "outputs": [],
   "source": [
    "X = pd.Series(['A','B','C','D','E'],\n",
    "              index=['first','second','third','forth','fifth'])\n",
    "\n",
    "#X.iloc[::-1]\n",
    "X[::-1]"
   ]
  },
  {
   "cell_type": "markdown",
   "id": "79cd147a",
   "metadata": {},
   "source": [
    "### Given the X pandas Series, show the first and last elements# "
   ]
  },
  {
   "cell_type": "code",
   "execution_count": null,
   "id": "50b4822d",
   "metadata": {},
   "outputs": [],
   "source": [
    "X = pd.Series(['A','B','C','D','E'],\n",
    "              index=['first','second','third','forth','fifth'])\n",
    "\n",
    "#X[['first', 'fifth']]\n",
    "#X.iloc[[0, -1]]\n",
    "X[[0, -1]]"
   ]
  },
  {
   "cell_type": "markdown",
   "id": "fbb25ab7",
   "metadata": {},
   "source": [
    "## Series manipulation"
   ]
  },
  {
   "cell_type": "markdown",
   "id": "1e359d5c",
   "metadata": {},
   "source": [
    "### Convert the given integer pandas Series to float"
   ]
  },
  {
   "cell_type": "code",
   "execution_count": null,
   "id": "cfa4fb0e",
   "metadata": {},
   "outputs": [],
   "source": [
    "X = pd.Series([1,2,3,4,5],\n",
    "              index=['first','second','third','forth','fifth'])\n",
    "\n",
    "pd.Series(X, dtype=np.float)"
   ]
  },
  {
   "cell_type": "code",
   "execution_count": null,
   "id": "7c3ae00c",
   "metadata": {},
   "outputs": [],
   "source": []
  },
  {
   "cell_type": "markdown",
   "id": "8608e730",
   "metadata": {},
   "source": [
    "### Reverse the given pandas Series (first element becomes last)"
   ]
  },
  {
   "cell_type": "code",
   "execution_count": null,
   "id": "2bc326f5",
   "metadata": {},
   "outputs": [],
   "source": [
    "X = pd.Series([1,2,3,4,5],\n",
    "              index=['first','second','third','forth','fifth'])\n",
    "\n",
    "X[::-1]"
   ]
  },
  {
   "cell_type": "markdown",
   "id": "73985de9",
   "metadata": {},
   "source": [
    "### Order (sort) the given pandas Series"
   ]
  },
  {
   "cell_type": "code",
   "execution_count": null,
   "id": "cee1d957",
   "metadata": {},
   "outputs": [],
   "source": [
    "X = pd.Series([4,2,5,1,3],\n",
    "              index=['forth','second','fifth','first','third'])\n",
    "\n",
    "X = X.sort_values()\n",
    "X"
   ]
  },
  {
   "cell_type": "markdown",
   "id": "7e0bcd9f",
   "metadata": {},
   "source": [
    "### Given the X pandas Series, set the fifth element equal to 10"
   ]
  },
  {
   "cell_type": "code",
   "execution_count": null,
   "id": "efadfc3d",
   "metadata": {},
   "outputs": [],
   "source": [
    "X = pd.Series([1,2,3,4,5],\n",
    "              index=['A','B','C','D','E'])\n",
    "\n",
    "X[4] = 10\n",
    "X"
   ]
  },
  {
   "cell_type": "markdown",
   "id": "1c1091b6",
   "metadata": {},
   "source": [
    "### Given the X pandas Series, change all the middle elements to 0"
   ]
  },
  {
   "cell_type": "code",
   "execution_count": null,
   "id": "0caa0221",
   "metadata": {},
   "outputs": [],
   "source": [
    "X = pd.Series([1,2,3,4,5],\n",
    "              index=['A','B','C','D','E'])\n",
    "\n",
    "X[1:-1] = 0\n",
    "X"
   ]
  },
  {
   "cell_type": "markdown",
   "id": "e41cfc6f",
   "metadata": {},
   "source": [
    "### Given the X pandas Series, add 5 to every element"
   ]
  },
  {
   "cell_type": "code",
   "execution_count": null,
   "id": "10076bdb",
   "metadata": {},
   "outputs": [],
   "source": [
    "X = pd.Series([1,2,3,4,5])\n",
    "\n",
    "X + 5"
   ]
  },
  {
   "cell_type": "code",
   "execution_count": null,
   "id": "4a58af82",
   "metadata": {},
   "outputs": [],
   "source": []
  },
  {
   "cell_type": "markdown",
   "id": "886dedb5",
   "metadata": {},
   "source": [
    "## Series boolean arrays (also called masks)"
   ]
  },
  {
   "cell_type": "markdown",
   "id": "8355c0d8",
   "metadata": {},
   "source": [
    "### Given the X pandas Series, make a mask showing negative elements"
   ]
  },
  {
   "cell_type": "code",
   "execution_count": null,
   "id": "192835cc",
   "metadata": {},
   "outputs": [],
   "source": [
    "X = pd.Series([-1,2,0,-4,5,6,0,0,-9,10])\n",
    "\n",
    "mask = X <= 0\n",
    "mask"
   ]
  },
  {
   "cell_type": "markdown",
   "id": "95d4ee8b",
   "metadata": {},
   "source": [
    "### Given the X pandas Series, get the negative elements"
   ]
  },
  {
   "cell_type": "code",
   "execution_count": null,
   "id": "3e4ca8da",
   "metadata": {},
   "outputs": [],
   "source": [
    "X = pd.Series([-1,2,0,-4,5,6,0,0,-9,10])\n",
    "\n",
    "mask = X <= 0\n",
    "X[mask]"
   ]
  },
  {
   "cell_type": "markdown",
   "id": "f1c3d65e",
   "metadata": {},
   "source": [
    "### Given the X pandas Series, get numbers higher than 5"
   ]
  },
  {
   "cell_type": "code",
   "execution_count": null,
   "id": "7109448b",
   "metadata": {},
   "outputs": [],
   "source": [
    "X = pd.Series([-1,2,0,-4,5,6,0,0,-9,10])\n",
    "\n",
    "mask = X > 5\n",
    "X[mask]"
   ]
  },
  {
   "cell_type": "markdown",
   "id": "8a2338a1",
   "metadata": {},
   "source": [
    "### Given the X pandas Series, get numbers higher than the elements mean"
   ]
  },
  {
   "cell_type": "code",
   "execution_count": null,
   "id": "da6c9c3d",
   "metadata": {},
   "outputs": [],
   "source": [
    "X = pd.Series([-1,2,0,-4,5,6,0,0,-9,10])\n",
    "\n",
    "mask = X > X.mean()\n",
    "X[mask]"
   ]
  },
  {
   "cell_type": "markdown",
   "id": "156fe9ea",
   "metadata": {},
   "source": [
    "### Given the X pandas Series, get numbers equal to 2 or 10"
   ]
  },
  {
   "cell_type": "code",
   "execution_count": null,
   "id": "5d8c33df",
   "metadata": {},
   "outputs": [],
   "source": [
    "X = pd.Series([-1,2,0,-4,5,6,0,0,-9,10])\n",
    "\n",
    "mask = (X == 2) | (X == 10)\n",
    "X[mask]"
   ]
  },
  {
   "cell_type": "markdown",
   "id": "6c45d65f",
   "metadata": {},
   "source": [
    "## Logic functions"
   ]
  },
  {
   "cell_type": "markdown",
   "id": "07d37681",
   "metadata": {},
   "source": [
    "### Given the X pandas Series, return True if none of its elements is zero"
   ]
  },
  {
   "cell_type": "code",
   "execution_count": null,
   "id": "4c7a96d8",
   "metadata": {},
   "outputs": [],
   "source": [
    "X = pd.Series([-1,2,0,-4,5,6,0,0,-9,10])\n",
    "\n",
    "X.all()"
   ]
  },
  {
   "cell_type": "markdown",
   "id": "3b664f5f",
   "metadata": {},
   "source": [
    "### Given the X pandas Series, return True if any of its elements is zero"
   ]
  },
  {
   "cell_type": "code",
   "execution_count": null,
   "id": "64c2ba83",
   "metadata": {},
   "outputs": [],
   "source": [
    "X = pd.Series([-1,2,0,-4,5,6,0,0,-9,10])\n",
    "\n",
    "X.any()"
   ]
  },
  {
   "cell_type": "markdown",
   "id": "e01499d5",
   "metadata": {},
   "source": [
    "## Summary statistics"
   ]
  },
  {
   "cell_type": "markdown",
   "id": "38e196b8",
   "metadata": {},
   "source": [
    "### Given the X pandas Series, show the sum of its elements"
   ]
  },
  {
   "cell_type": "code",
   "execution_count": null,
   "id": "2e848142",
   "metadata": {},
   "outputs": [],
   "source": [
    "X = pd.Series([3,5,6,7,2,3,4,9,4])\n",
    "\n",
    "#np.sum(X)\n",
    "X.sum()"
   ]
  },
  {
   "cell_type": "markdown",
   "id": "f2297757",
   "metadata": {},
   "source": [
    "### Given the X pandas Series, show the mean value of its elements"
   ]
  },
  {
   "cell_type": "code",
   "execution_count": null,
   "id": "8ec42649",
   "metadata": {},
   "outputs": [],
   "source": [
    "X = pd.Series([1,2,0,4,5,6,0,0,9,10])\n",
    "\n",
    "#np.mean(X)\n",
    "X.mean()"
   ]
  },
  {
   "cell_type": "markdown",
   "id": "b500c3e7",
   "metadata": {},
   "source": [
    "### Given the X pandas Series, show the max value of its elements"
   ]
  },
  {
   "cell_type": "markdown",
   "id": "29db1f53",
   "metadata": {},
   "source": [
    "X = pd.Series([1,2,0,4,5,6,0,0,9,10])\n",
    "\n",
    "#np.max(X)\n",
    "X.max()"
   ]
  },
  {
   "cell_type": "markdown",
   "id": "c4cef7c0",
   "metadata": {},
   "source": [
    "### "
   ]
  }
 ],
 "metadata": {
  "kernelspec": {
   "display_name": "Python 3 (ipykernel)",
   "language": "python",
   "name": "python3"
  },
  "language_info": {
   "codemirror_mode": {
    "name": "ipython",
    "version": 3
   },
   "file_extension": ".py",
   "mimetype": "text/x-python",
   "name": "python",
   "nbconvert_exporter": "python",
   "pygments_lexer": "ipython3",
   "version": "3.10.5"
  }
 },
 "nbformat": 4,
 "nbformat_minor": 5
}
